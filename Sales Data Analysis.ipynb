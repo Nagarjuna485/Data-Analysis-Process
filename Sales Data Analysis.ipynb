{
 "cells": [
  {
   "cell_type": "markdown",
   "metadata": {},
   "source": [
    "# Sale-Data "
   ]
  },
  {
   "cell_type": "markdown",
   "metadata": {},
   "source": [
    "## Data Analysis process\n",
    "\n",
    "\n"
   ]
  },
  {
   "cell_type": "markdown",
   "metadata": {},
   "source": [
    "### Question 1:\n",
    "What was the best month for sales? How much was earned that month?\n",
    "\n",
    "### Question 2:\n",
    "Which city had the highest number of sales?\n",
    "\n",
    "### Question 3:\n",
    "What is the best time to display advertisements to maximize the likelihood of customers' buying products?\n",
    "\n",
    "### Question 4:\n",
    "What products are most often sold together?\n",
    "\n",
    "### Question 5:\n",
    "Which product has the highest sales(based on quantity)? Why do you think it has the highest sales?\n",
    "\n",
    "### Question 6:\n",
    "Find the products with the highest popularity in each month of the year 2019?\n"
   ]
  },
  {
   "cell_type": "markdown",
   "metadata": {},
   "source": [
    "### Import Data"
   ]
  },
  {
   "cell_type": "code",
   "execution_count": 1,
   "metadata": {},
   "outputs": [],
   "source": [
    "import numpy as np\n",
    "import pandas as pd"
   ]
  },
  {
   "cell_type": "code",
   "execution_count": 2,
   "metadata": {},
   "outputs": [
    {
     "data": {
      "text/html": [
       "<div>\n",
       "<style scoped>\n",
       "    .dataframe tbody tr th:only-of-type {\n",
       "        vertical-align: middle;\n",
       "    }\n",
       "\n",
       "    .dataframe tbody tr th {\n",
       "        vertical-align: top;\n",
       "    }\n",
       "\n",
       "    .dataframe thead th {\n",
       "        text-align: right;\n",
       "    }\n",
       "</style>\n",
       "<table border=\"1\" class=\"dataframe\">\n",
       "  <thead>\n",
       "    <tr style=\"text-align: right;\">\n",
       "      <th></th>\n",
       "      <th>Order ID</th>\n",
       "      <th>Product</th>\n",
       "      <th>Quantity Ordered</th>\n",
       "      <th>Price Each</th>\n",
       "      <th>Order Date</th>\n",
       "      <th>Purchase Address</th>\n",
       "    </tr>\n",
       "  </thead>\n",
       "  <tbody>\n",
       "    <tr>\n",
       "      <th>0</th>\n",
       "      <td>150502.0</td>\n",
       "      <td>iPhone</td>\n",
       "      <td>1.0</td>\n",
       "      <td>700.00</td>\n",
       "      <td>02/18/19 01:35</td>\n",
       "      <td>866 Spruce St, Portland, ME 04101</td>\n",
       "    </tr>\n",
       "    <tr>\n",
       "      <th>1</th>\n",
       "      <td>150503.0</td>\n",
       "      <td>AA Batteries (4-pack)</td>\n",
       "      <td>1.0</td>\n",
       "      <td>3.84</td>\n",
       "      <td>02/13/19 07:24</td>\n",
       "      <td>18 13th St, San Francisco, CA 94016</td>\n",
       "    </tr>\n",
       "    <tr>\n",
       "      <th>2</th>\n",
       "      <td>150504.0</td>\n",
       "      <td>27in 4K Gaming Monitor</td>\n",
       "      <td>1.0</td>\n",
       "      <td>389.99</td>\n",
       "      <td>02/18/19 09:46</td>\n",
       "      <td>52 6th St, New York City, NY 10001</td>\n",
       "    </tr>\n",
       "    <tr>\n",
       "      <th>3</th>\n",
       "      <td>150505.0</td>\n",
       "      <td>Lightning Charging Cable</td>\n",
       "      <td>1.0</td>\n",
       "      <td>14.95</td>\n",
       "      <td>02/02/19 16:47</td>\n",
       "      <td>129 Cherry St, Atlanta, GA 30301</td>\n",
       "    </tr>\n",
       "    <tr>\n",
       "      <th>4</th>\n",
       "      <td>150506.0</td>\n",
       "      <td>AA Batteries (4-pack)</td>\n",
       "      <td>2.0</td>\n",
       "      <td>3.84</td>\n",
       "      <td>02/28/19 20:32</td>\n",
       "      <td>548 Lincoln St, Seattle, WA 98101</td>\n",
       "    </tr>\n",
       "    <tr>\n",
       "      <th>...</th>\n",
       "      <td>...</td>\n",
       "      <td>...</td>\n",
       "      <td>...</td>\n",
       "      <td>...</td>\n",
       "      <td>...</td>\n",
       "      <td>...</td>\n",
       "    </tr>\n",
       "    <tr>\n",
       "      <th>372985</th>\n",
       "      <td>295660.0</td>\n",
       "      <td>AAA Batteries (4-pack)</td>\n",
       "      <td>2.0</td>\n",
       "      <td>2.99</td>\n",
       "      <td>11/04/19 14:17</td>\n",
       "      <td>574 4th St, Los Angeles, CA 90001</td>\n",
       "    </tr>\n",
       "    <tr>\n",
       "      <th>372986</th>\n",
       "      <td>295661.0</td>\n",
       "      <td>USB-C Charging Cable</td>\n",
       "      <td>1.0</td>\n",
       "      <td>11.95</td>\n",
       "      <td>11/23/19 07:22</td>\n",
       "      <td>359 1st St, Austin, TX 73301</td>\n",
       "    </tr>\n",
       "    <tr>\n",
       "      <th>372987</th>\n",
       "      <td>295662.0</td>\n",
       "      <td>Lightning Charging Cable</td>\n",
       "      <td>1.0</td>\n",
       "      <td>14.95</td>\n",
       "      <td>11/13/19 16:12</td>\n",
       "      <td>900 10th St, Boston, MA 02215</td>\n",
       "    </tr>\n",
       "    <tr>\n",
       "      <th>372988</th>\n",
       "      <td>295663.0</td>\n",
       "      <td>AAA Batteries (4-pack)</td>\n",
       "      <td>1.0</td>\n",
       "      <td>2.99</td>\n",
       "      <td>11/17/19 17:08</td>\n",
       "      <td>592 Sunset St, Boston, MA 02215</td>\n",
       "    </tr>\n",
       "    <tr>\n",
       "      <th>372989</th>\n",
       "      <td>295664.0</td>\n",
       "      <td>Google Phone</td>\n",
       "      <td>1.0</td>\n",
       "      <td>600.00</td>\n",
       "      <td>11/17/19 16:13</td>\n",
       "      <td>428 Jackson St, Boston, MA 02215</td>\n",
       "    </tr>\n",
       "  </tbody>\n",
       "</table>\n",
       "<p>372990 rows × 6 columns</p>\n",
       "</div>"
      ],
      "text/plain": [
       "        Order ID                   Product  Quantity Ordered  Price Each  \\\n",
       "0       150502.0                    iPhone               1.0      700.00   \n",
       "1       150503.0     AA Batteries (4-pack)               1.0        3.84   \n",
       "2       150504.0    27in 4K Gaming Monitor               1.0      389.99   \n",
       "3       150505.0  Lightning Charging Cable               1.0       14.95   \n",
       "4       150506.0     AA Batteries (4-pack)               2.0        3.84   \n",
       "...          ...                       ...               ...         ...   \n",
       "372985  295660.0    AAA Batteries (4-pack)               2.0        2.99   \n",
       "372986  295661.0      USB-C Charging Cable               1.0       11.95   \n",
       "372987  295662.0  Lightning Charging Cable               1.0       14.95   \n",
       "372988  295663.0    AAA Batteries (4-pack)               1.0        2.99   \n",
       "372989  295664.0              Google Phone               1.0      600.00   \n",
       "\n",
       "            Order Date                     Purchase Address  \n",
       "0       02/18/19 01:35    866 Spruce St, Portland, ME 04101  \n",
       "1       02/13/19 07:24  18 13th St, San Francisco, CA 94016  \n",
       "2       02/18/19 09:46   52 6th St, New York City, NY 10001  \n",
       "3       02/02/19 16:47     129 Cherry St, Atlanta, GA 30301  \n",
       "4       02/28/19 20:32    548 Lincoln St, Seattle, WA 98101  \n",
       "...                ...                                  ...  \n",
       "372985  11/04/19 14:17    574 4th St, Los Angeles, CA 90001  \n",
       "372986  11/23/19 07:22         359 1st St, Austin, TX 73301  \n",
       "372987  11/13/19 16:12        900 10th St, Boston, MA 02215  \n",
       "372988  11/17/19 17:08      592 Sunset St, Boston, MA 02215  \n",
       "372989  11/17/19 16:13     428 Jackson St, Boston, MA 02215  \n",
       "\n",
       "[372990 rows x 6 columns]"
      ]
     },
     "execution_count": 2,
     "metadata": {},
     "output_type": "execute_result"
    }
   ],
   "source": [
    "shopping_df = pd.read_csv(\"E:\\AI-ML/sales_data.csv\")\n",
    "shopping_df"
   ]
  },
  {
   "cell_type": "markdown",
   "metadata": {},
   "source": [
    "#### Cleaning the data"
   ]
  },
  {
   "cell_type": "code",
   "execution_count": 3,
   "metadata": {},
   "outputs": [
    {
     "data": {
      "text/plain": [
       "Order ID            1090\n",
       "Product             1090\n",
       "Quantity Ordered    1090\n",
       "Price Each          1090\n",
       "Order Date          1090\n",
       "Purchase Address    1090\n",
       "dtype: int64"
      ]
     },
     "execution_count": 3,
     "metadata": {},
     "output_type": "execute_result"
    }
   ],
   "source": [
    "## Find out null and count the null values\n",
    "\n",
    "shopping_df.isnull().sum()"
   ]
  },
  {
   "cell_type": "code",
   "execution_count": 4,
   "metadata": {},
   "outputs": [
    {
     "data": {
      "text/html": [
       "<div>\n",
       "<style scoped>\n",
       "    .dataframe tbody tr th:only-of-type {\n",
       "        vertical-align: middle;\n",
       "    }\n",
       "\n",
       "    .dataframe tbody tr th {\n",
       "        vertical-align: top;\n",
       "    }\n",
       "\n",
       "    .dataframe thead th {\n",
       "        text-align: right;\n",
       "    }\n",
       "</style>\n",
       "<table border=\"1\" class=\"dataframe\">\n",
       "  <thead>\n",
       "    <tr style=\"text-align: right;\">\n",
       "      <th></th>\n",
       "      <th>Order ID</th>\n",
       "      <th>Product</th>\n",
       "      <th>Quantity Ordered</th>\n",
       "      <th>Price Each</th>\n",
       "      <th>Order Date</th>\n",
       "      <th>Purchase Address</th>\n",
       "    </tr>\n",
       "  </thead>\n",
       "  <tbody>\n",
       "    <tr>\n",
       "      <th>0</th>\n",
       "      <td>150502.0</td>\n",
       "      <td>iPhone</td>\n",
       "      <td>1.0</td>\n",
       "      <td>700.00</td>\n",
       "      <td>02/18/19 01:35</td>\n",
       "      <td>866 Spruce St, Portland, ME 04101</td>\n",
       "    </tr>\n",
       "    <tr>\n",
       "      <th>1</th>\n",
       "      <td>150503.0</td>\n",
       "      <td>AA Batteries (4-pack)</td>\n",
       "      <td>1.0</td>\n",
       "      <td>3.84</td>\n",
       "      <td>02/13/19 07:24</td>\n",
       "      <td>18 13th St, San Francisco, CA 94016</td>\n",
       "    </tr>\n",
       "    <tr>\n",
       "      <th>2</th>\n",
       "      <td>150504.0</td>\n",
       "      <td>27in 4K Gaming Monitor</td>\n",
       "      <td>1.0</td>\n",
       "      <td>389.99</td>\n",
       "      <td>02/18/19 09:46</td>\n",
       "      <td>52 6th St, New York City, NY 10001</td>\n",
       "    </tr>\n",
       "    <tr>\n",
       "      <th>3</th>\n",
       "      <td>150505.0</td>\n",
       "      <td>Lightning Charging Cable</td>\n",
       "      <td>1.0</td>\n",
       "      <td>14.95</td>\n",
       "      <td>02/02/19 16:47</td>\n",
       "      <td>129 Cherry St, Atlanta, GA 30301</td>\n",
       "    </tr>\n",
       "    <tr>\n",
       "      <th>4</th>\n",
       "      <td>150506.0</td>\n",
       "      <td>AA Batteries (4-pack)</td>\n",
       "      <td>2.0</td>\n",
       "      <td>3.84</td>\n",
       "      <td>02/28/19 20:32</td>\n",
       "      <td>548 Lincoln St, Seattle, WA 98101</td>\n",
       "    </tr>\n",
       "    <tr>\n",
       "      <th>...</th>\n",
       "      <td>...</td>\n",
       "      <td>...</td>\n",
       "      <td>...</td>\n",
       "      <td>...</td>\n",
       "      <td>...</td>\n",
       "      <td>...</td>\n",
       "    </tr>\n",
       "    <tr>\n",
       "      <th>372985</th>\n",
       "      <td>295660.0</td>\n",
       "      <td>AAA Batteries (4-pack)</td>\n",
       "      <td>2.0</td>\n",
       "      <td>2.99</td>\n",
       "      <td>11/04/19 14:17</td>\n",
       "      <td>574 4th St, Los Angeles, CA 90001</td>\n",
       "    </tr>\n",
       "    <tr>\n",
       "      <th>372986</th>\n",
       "      <td>295661.0</td>\n",
       "      <td>USB-C Charging Cable</td>\n",
       "      <td>1.0</td>\n",
       "      <td>11.95</td>\n",
       "      <td>11/23/19 07:22</td>\n",
       "      <td>359 1st St, Austin, TX 73301</td>\n",
       "    </tr>\n",
       "    <tr>\n",
       "      <th>372987</th>\n",
       "      <td>295662.0</td>\n",
       "      <td>Lightning Charging Cable</td>\n",
       "      <td>1.0</td>\n",
       "      <td>14.95</td>\n",
       "      <td>11/13/19 16:12</td>\n",
       "      <td>900 10th St, Boston, MA 02215</td>\n",
       "    </tr>\n",
       "    <tr>\n",
       "      <th>372988</th>\n",
       "      <td>295663.0</td>\n",
       "      <td>AAA Batteries (4-pack)</td>\n",
       "      <td>1.0</td>\n",
       "      <td>2.99</td>\n",
       "      <td>11/17/19 17:08</td>\n",
       "      <td>592 Sunset St, Boston, MA 02215</td>\n",
       "    </tr>\n",
       "    <tr>\n",
       "      <th>372989</th>\n",
       "      <td>295664.0</td>\n",
       "      <td>Google Phone</td>\n",
       "      <td>1.0</td>\n",
       "      <td>600.00</td>\n",
       "      <td>11/17/19 16:13</td>\n",
       "      <td>428 Jackson St, Boston, MA 02215</td>\n",
       "    </tr>\n",
       "  </tbody>\n",
       "</table>\n",
       "<p>371900 rows × 6 columns</p>\n",
       "</div>"
      ],
      "text/plain": [
       "        Order ID                   Product  Quantity Ordered  Price Each  \\\n",
       "0       150502.0                    iPhone               1.0      700.00   \n",
       "1       150503.0     AA Batteries (4-pack)               1.0        3.84   \n",
       "2       150504.0    27in 4K Gaming Monitor               1.0      389.99   \n",
       "3       150505.0  Lightning Charging Cable               1.0       14.95   \n",
       "4       150506.0     AA Batteries (4-pack)               2.0        3.84   \n",
       "...          ...                       ...               ...         ...   \n",
       "372985  295660.0    AAA Batteries (4-pack)               2.0        2.99   \n",
       "372986  295661.0      USB-C Charging Cable               1.0       11.95   \n",
       "372987  295662.0  Lightning Charging Cable               1.0       14.95   \n",
       "372988  295663.0    AAA Batteries (4-pack)               1.0        2.99   \n",
       "372989  295664.0              Google Phone               1.0      600.00   \n",
       "\n",
       "            Order Date                     Purchase Address  \n",
       "0       02/18/19 01:35    866 Spruce St, Portland, ME 04101  \n",
       "1       02/13/19 07:24  18 13th St, San Francisco, CA 94016  \n",
       "2       02/18/19 09:46   52 6th St, New York City, NY 10001  \n",
       "3       02/02/19 16:47     129 Cherry St, Atlanta, GA 30301  \n",
       "4       02/28/19 20:32    548 Lincoln St, Seattle, WA 98101  \n",
       "...                ...                                  ...  \n",
       "372985  11/04/19 14:17    574 4th St, Los Angeles, CA 90001  \n",
       "372986  11/23/19 07:22         359 1st St, Austin, TX 73301  \n",
       "372987  11/13/19 16:12        900 10th St, Boston, MA 02215  \n",
       "372988  11/17/19 17:08      592 Sunset St, Boston, MA 02215  \n",
       "372989  11/17/19 16:13     428 Jackson St, Boston, MA 02215  \n",
       "\n",
       "[371900 rows x 6 columns]"
      ]
     },
     "execution_count": 4,
     "metadata": {},
     "output_type": "execute_result"
    }
   ],
   "source": [
    "# Removing null values.\n",
    "\n",
    "shopping_df = shopping_df.dropna()\n",
    "shopping_df"
   ]
  },
  {
   "cell_type": "code",
   "execution_count": 5,
   "metadata": {},
   "outputs": [
    {
     "data": {
      "text/plain": [
       "Order ID            0\n",
       "Product             0\n",
       "Quantity Ordered    0\n",
       "Price Each          0\n",
       "Order Date          0\n",
       "Purchase Address    0\n",
       "dtype: int64"
      ]
     },
     "execution_count": 5,
     "metadata": {},
     "output_type": "execute_result"
    }
   ],
   "source": [
    "# Re-Check null values.\n",
    "\n",
    "shopping_df.isnull().sum()"
   ]
  },
  {
   "cell_type": "markdown",
   "metadata": {},
   "source": [
    "### Question 1:\n",
    "\n",
    " What was the best month for sales? How much was earned that month?"
   ]
  },
  {
   "cell_type": "code",
   "execution_count": 6,
   "metadata": {},
   "outputs": [
    {
     "data": {
      "text/plain": [
       "Order ID            float64\n",
       "Product              object\n",
       "Quantity Ordered    float64\n",
       "Price Each          float64\n",
       "Order Date           object\n",
       "Purchase Address     object\n",
       "dtype: object"
      ]
     },
     "execution_count": 6,
     "metadata": {},
     "output_type": "execute_result"
    }
   ],
   "source": [
    "# Data types\n",
    "\n",
    "shopping_df.dtypes"
   ]
  },
  {
   "cell_type": "code",
   "execution_count": 7,
   "metadata": {},
   "outputs": [
    {
     "name": "stderr",
     "output_type": "stream",
     "text": [
      "<ipython-input-7-2c95169364e4>:3: SettingWithCopyWarning: \n",
      "A value is trying to be set on a copy of a slice from a DataFrame.\n",
      "Try using .loc[row_indexer,col_indexer] = value instead\n",
      "\n",
      "See the caveats in the documentation: https://pandas.pydata.org/pandas-docs/stable/user_guide/indexing.html#returning-a-view-versus-a-copy\n",
      "  shopping_df['Order Date'] = pd.to_datetime(shopping_df['Order Date'])\n"
     ]
    },
    {
     "data": {
      "text/plain": [
       "0        2019-02-18 01:35:00\n",
       "1        2019-02-13 07:24:00\n",
       "2        2019-02-18 09:46:00\n",
       "3        2019-02-02 16:47:00\n",
       "4        2019-02-28 20:32:00\n",
       "                 ...        \n",
       "372985   2019-11-04 14:17:00\n",
       "372986   2019-11-23 07:22:00\n",
       "372987   2019-11-13 16:12:00\n",
       "372988   2019-11-17 17:08:00\n",
       "372989   2019-11-17 16:13:00\n",
       "Name: Order Date, Length: 371900, dtype: datetime64[ns]"
      ]
     },
     "execution_count": 7,
     "metadata": {},
     "output_type": "execute_result"
    }
   ],
   "source": [
    "# Convert to datetime\n",
    "\n",
    "shopping_df['Order Date'] = pd.to_datetime(shopping_df['Order Date'])\n",
    "shopping_df['Order Date']"
   ]
  },
  {
   "cell_type": "code",
   "execution_count": 8,
   "metadata": {},
   "outputs": [
    {
     "name": "stderr",
     "output_type": "stream",
     "text": [
      "<ipython-input-8-1941cac9bb4c>:3: SettingWithCopyWarning: \n",
      "A value is trying to be set on a copy of a slice from a DataFrame.\n",
      "Try using .loc[row_indexer,col_indexer] = value instead\n",
      "\n",
      "See the caveats in the documentation: https://pandas.pydata.org/pandas-docs/stable/user_guide/indexing.html#returning-a-view-versus-a-copy\n",
      "  shopping_df['Order ID'] = shopping_df['Order ID'].astype(dtype=int)\n"
     ]
    }
   ],
   "source": [
    "# convert into 'int' - \"Order ID\" datatype using 'astype'\n",
    "\n",
    "shopping_df['Order ID'] = shopping_df['Order ID'].astype(dtype=int)"
   ]
  },
  {
   "cell_type": "code",
   "execution_count": 9,
   "metadata": {},
   "outputs": [
    {
     "name": "stderr",
     "output_type": "stream",
     "text": [
      "<ipython-input-9-a37b3035c388>:3: SettingWithCopyWarning: \n",
      "A value is trying to be set on a copy of a slice from a DataFrame.\n",
      "Try using .loc[row_indexer,col_indexer] = value instead\n",
      "\n",
      "See the caveats in the documentation: https://pandas.pydata.org/pandas-docs/stable/user_guide/indexing.html#returning-a-view-versus-a-copy\n",
      "  shopping_df['Hour'] = shopping_df['Order Date'].dt.hour\n",
      "<ipython-input-9-a37b3035c388>:4: SettingWithCopyWarning: \n",
      "A value is trying to be set on a copy of a slice from a DataFrame.\n",
      "Try using .loc[row_indexer,col_indexer] = value instead\n",
      "\n",
      "See the caveats in the documentation: https://pandas.pydata.org/pandas-docs/stable/user_guide/indexing.html#returning-a-view-versus-a-copy\n",
      "  shopping_df['Minute'] = shopping_df['Order Date'].dt.minute\n"
     ]
    },
    {
     "data": {
      "text/html": [
       "<div>\n",
       "<style scoped>\n",
       "    .dataframe tbody tr th:only-of-type {\n",
       "        vertical-align: middle;\n",
       "    }\n",
       "\n",
       "    .dataframe tbody tr th {\n",
       "        vertical-align: top;\n",
       "    }\n",
       "\n",
       "    .dataframe thead th {\n",
       "        text-align: right;\n",
       "    }\n",
       "</style>\n",
       "<table border=\"1\" class=\"dataframe\">\n",
       "  <thead>\n",
       "    <tr style=\"text-align: right;\">\n",
       "      <th></th>\n",
       "      <th>Order ID</th>\n",
       "      <th>Product</th>\n",
       "      <th>Quantity Ordered</th>\n",
       "      <th>Price Each</th>\n",
       "      <th>Order Date</th>\n",
       "      <th>Purchase Address</th>\n",
       "      <th>Hour</th>\n",
       "      <th>Minute</th>\n",
       "    </tr>\n",
       "  </thead>\n",
       "  <tbody>\n",
       "    <tr>\n",
       "      <th>0</th>\n",
       "      <td>150502</td>\n",
       "      <td>iPhone</td>\n",
       "      <td>1.0</td>\n",
       "      <td>700.00</td>\n",
       "      <td>2019-02-18 01:35:00</td>\n",
       "      <td>866 Spruce St, Portland, ME 04101</td>\n",
       "      <td>1</td>\n",
       "      <td>35</td>\n",
       "    </tr>\n",
       "    <tr>\n",
       "      <th>1</th>\n",
       "      <td>150503</td>\n",
       "      <td>AA Batteries (4-pack)</td>\n",
       "      <td>1.0</td>\n",
       "      <td>3.84</td>\n",
       "      <td>2019-02-13 07:24:00</td>\n",
       "      <td>18 13th St, San Francisco, CA 94016</td>\n",
       "      <td>7</td>\n",
       "      <td>24</td>\n",
       "    </tr>\n",
       "    <tr>\n",
       "      <th>2</th>\n",
       "      <td>150504</td>\n",
       "      <td>27in 4K Gaming Monitor</td>\n",
       "      <td>1.0</td>\n",
       "      <td>389.99</td>\n",
       "      <td>2019-02-18 09:46:00</td>\n",
       "      <td>52 6th St, New York City, NY 10001</td>\n",
       "      <td>9</td>\n",
       "      <td>46</td>\n",
       "    </tr>\n",
       "    <tr>\n",
       "      <th>3</th>\n",
       "      <td>150505</td>\n",
       "      <td>Lightning Charging Cable</td>\n",
       "      <td>1.0</td>\n",
       "      <td>14.95</td>\n",
       "      <td>2019-02-02 16:47:00</td>\n",
       "      <td>129 Cherry St, Atlanta, GA 30301</td>\n",
       "      <td>16</td>\n",
       "      <td>47</td>\n",
       "    </tr>\n",
       "    <tr>\n",
       "      <th>4</th>\n",
       "      <td>150506</td>\n",
       "      <td>AA Batteries (4-pack)</td>\n",
       "      <td>2.0</td>\n",
       "      <td>3.84</td>\n",
       "      <td>2019-02-28 20:32:00</td>\n",
       "      <td>548 Lincoln St, Seattle, WA 98101</td>\n",
       "      <td>20</td>\n",
       "      <td>32</td>\n",
       "    </tr>\n",
       "  </tbody>\n",
       "</table>\n",
       "</div>"
      ],
      "text/plain": [
       "   Order ID                   Product  Quantity Ordered  Price Each  \\\n",
       "0    150502                    iPhone               1.0      700.00   \n",
       "1    150503     AA Batteries (4-pack)               1.0        3.84   \n",
       "2    150504    27in 4K Gaming Monitor               1.0      389.99   \n",
       "3    150505  Lightning Charging Cable               1.0       14.95   \n",
       "4    150506     AA Batteries (4-pack)               2.0        3.84   \n",
       "\n",
       "           Order Date                     Purchase Address  Hour  Minute  \n",
       "0 2019-02-18 01:35:00    866 Spruce St, Portland, ME 04101     1      35  \n",
       "1 2019-02-13 07:24:00  18 13th St, San Francisco, CA 94016     7      24  \n",
       "2 2019-02-18 09:46:00   52 6th St, New York City, NY 10001     9      46  \n",
       "3 2019-02-02 16:47:00     129 Cherry St, Atlanta, GA 30301    16      47  \n",
       "4 2019-02-28 20:32:00    548 Lincoln St, Seattle, WA 98101    20      32  "
      ]
     },
     "execution_count": 9,
     "metadata": {},
     "output_type": "execute_result"
    }
   ],
   "source": [
    "# changing Time ,, Our requirement\n",
    "\n",
    "shopping_df['Hour'] = shopping_df['Order Date'].dt.hour\n",
    "shopping_df['Minute'] = shopping_df['Order Date'].dt.minute\n",
    "shopping_df.head()"
   ]
  },
  {
   "cell_type": "code",
   "execution_count": 10,
   "metadata": {},
   "outputs": [
    {
     "name": "stderr",
     "output_type": "stream",
     "text": [
      "<ipython-input-10-f250607333af>:3: SettingWithCopyWarning: \n",
      "A value is trying to be set on a copy of a slice from a DataFrame.\n",
      "Try using .loc[row_indexer,col_indexer] = value instead\n",
      "\n",
      "See the caveats in the documentation: https://pandas.pydata.org/pandas-docs/stable/user_guide/indexing.html#returning-a-view-versus-a-copy\n",
      "  shopping_df['Month'] = shopping_df['Order Date'].dt.month\n"
     ]
    },
    {
     "data": {
      "text/plain": [
       "0          2\n",
       "1          2\n",
       "2          2\n",
       "3          2\n",
       "4          2\n",
       "          ..\n",
       "372985    11\n",
       "372986    11\n",
       "372987    11\n",
       "372988    11\n",
       "372989    11\n",
       "Name: Month, Length: 371900, dtype: int64"
      ]
     },
     "execution_count": 10,
     "metadata": {},
     "output_type": "execute_result"
    }
   ],
   "source": [
    "#Add month col\n",
    "\n",
    "shopping_df['Month'] = shopping_df['Order Date'].dt.month\n",
    "shopping_df['Month']"
   ]
  },
  {
   "cell_type": "code",
   "execution_count": 11,
   "metadata": {},
   "outputs": [
    {
     "name": "stderr",
     "output_type": "stream",
     "text": [
      "<ipython-input-11-ce53bc938973>:3: SettingWithCopyWarning: \n",
      "A value is trying to be set on a copy of a slice from a DataFrame.\n",
      "Try using .loc[row_indexer,col_indexer] = value instead\n",
      "\n",
      "See the caveats in the documentation: https://pandas.pydata.org/pandas-docs/stable/user_guide/indexing.html#returning-a-view-versus-a-copy\n",
      "  shopping_df['Quantity Ordered'] = shopping_df['Quantity Ordered'].astype(dtype = int)\n",
      "<ipython-input-11-ce53bc938973>:4: SettingWithCopyWarning: \n",
      "A value is trying to be set on a copy of a slice from a DataFrame.\n",
      "Try using .loc[row_indexer,col_indexer] = value instead\n",
      "\n",
      "See the caveats in the documentation: https://pandas.pydata.org/pandas-docs/stable/user_guide/indexing.html#returning-a-view-versus-a-copy\n",
      "  shopping_df['Order ID'] = shopping_df['Order ID'].astype(dtype =int)\n"
     ]
    }
   ],
   "source": [
    "# Convert to int\n",
    "\n",
    "shopping_df['Quantity Ordered'] = shopping_df['Quantity Ordered'].astype(dtype = int)\n",
    "shopping_df['Order ID'] = shopping_df['Order ID'].astype(dtype =int)"
   ]
  },
  {
   "cell_type": "code",
   "execution_count": 12,
   "metadata": {},
   "outputs": [
    {
     "name": "stderr",
     "output_type": "stream",
     "text": [
      "<ipython-input-12-1e67a09b7a37>:3: SettingWithCopyWarning: \n",
      "A value is trying to be set on a copy of a slice from a DataFrame.\n",
      "Try using .loc[row_indexer,col_indexer] = value instead\n",
      "\n",
      "See the caveats in the documentation: https://pandas.pydata.org/pandas-docs/stable/user_guide/indexing.html#returning-a-view-versus-a-copy\n",
      "  shopping_df['Price Each'] = shopping_df['Price Each'].astype(dtype = float)\n"
     ]
    }
   ],
   "source": [
    "#convert to float \n",
    "\n",
    "shopping_df['Price Each'] = shopping_df['Price Each'].astype(dtype = float)"
   ]
  },
  {
   "cell_type": "code",
   "execution_count": 13,
   "metadata": {},
   "outputs": [
    {
     "data": {
      "text/plain": [
       "Order ID                     int32\n",
       "Product                     object\n",
       "Quantity Ordered             int32\n",
       "Price Each                 float64\n",
       "Order Date          datetime64[ns]\n",
       "Purchase Address            object\n",
       "Hour                         int64\n",
       "Minute                       int64\n",
       "Month                        int64\n",
       "dtype: object"
      ]
     },
     "execution_count": 13,
     "metadata": {},
     "output_type": "execute_result"
    }
   ],
   "source": [
    "# Re-Check datatypes\n",
    "\n",
    "shopping_df.dtypes"
   ]
  },
  {
   "cell_type": "markdown",
   "metadata": {},
   "source": [
    "### Analysis\n",
    "\n",
    "Find the month which has the highest sales and print the sales along with the name of the month?"
   ]
  },
  {
   "cell_type": "code",
   "execution_count": 14,
   "metadata": {
    "scrolled": true
   },
   "outputs": [
    {
     "name": "stderr",
     "output_type": "stream",
     "text": [
      "<ipython-input-14-66e500d93c75>:3: SettingWithCopyWarning: \n",
      "A value is trying to be set on a copy of a slice from a DataFrame.\n",
      "Try using .loc[row_indexer,col_indexer] = value instead\n",
      "\n",
      "See the caveats in the documentation: https://pandas.pydata.org/pandas-docs/stable/user_guide/indexing.html#returning-a-view-versus-a-copy\n",
      "  shopping_df['Sales'] =shopping_df['Quantity Ordered'] * shopping_df['Price Each']\n"
     ]
    }
   ],
   "source": [
    "# Add a Sales column \n",
    "\n",
    "shopping_df['Sales'] =shopping_df['Quantity Ordered'] * shopping_df['Price Each']\n",
    "results = shopping_df.groupby('Month').sum()\n",
    "best_sales_data_index =results['Sales'].argmax()"
   ]
  },
  {
   "cell_type": "code",
   "execution_count": 15,
   "metadata": {},
   "outputs": [
    {
     "name": "stdout",
     "output_type": "stream",
     "text": [
      "month: 12\n",
      "sales: 9226886.680003785\n"
     ]
    }
   ],
   "source": [
    "print('month:', best_sales_data_index+1)\n",
    "print('sales:', results.Sales[best_sales_data_index+1] )"
   ]
  },
  {
   "cell_type": "markdown",
   "metadata": {},
   "source": [
    "### plotting"
   ]
  },
  {
   "cell_type": "code",
   "execution_count": 16,
   "metadata": {},
   "outputs": [],
   "source": [
    "import matplotlib.pyplot as plt"
   ]
  },
  {
   "cell_type": "code",
   "execution_count": 17,
   "metadata": {},
   "outputs": [
    {
     "data": {
      "image/png": "[encoded data removed]",
      "text/plain": [
       "<Figure size 432x288 with 1 Axes>"
      ]
     },
     "metadata": {
      "needs_background": "light"
     },
     "output_type": "display_data"
    }
   ],
   "source": [
    "months = range(1,13)\n",
    "\n",
    "plt.bar(months, results['Sales'])\n",
    "plt.xticks(months)\n",
    "plt.xlabel('Momth number')\n",
    "plt.ylabel('Sales in usD ($)')\n",
    "plt.show()"
   ]
  },
  {
   "cell_type": "markdown",
   "metadata": {},
   "source": [
    "## Question 2:\n",
    "\n",
    " Which city had the highest number of sales?"
   ]
  },
  {
   "cell_type": "markdown",
   "metadata": {},
   "source": [
    "### Data Cleaning"
   ]
  },
  {
   "cell_type": "code",
   "execution_count": 18,
   "metadata": {},
   "outputs": [],
   "source": [
    "def get_city(address):\n",
    "    return address.split(',')[1]\n",
    "\n",
    "def get_state(address):\n",
    "    return address.split(',')[2].split(' ')[1]"
   ]
  },
  {
   "cell_type": "code",
   "execution_count": 19,
   "metadata": {},
   "outputs": [
    {
     "name": "stderr",
     "output_type": "stream",
     "text": [
      "<ipython-input-19-0b576e005159>:3: SettingWithCopyWarning: \n",
      "A value is trying to be set on a copy of a slice from a DataFrame.\n",
      "Try using .loc[row_indexer,col_indexer] = value instead\n",
      "\n",
      "See the caveats in the documentation: https://pandas.pydata.org/pandas-docs/stable/user_guide/indexing.html#returning-a-view-versus-a-copy\n",
      "  shopping_df['City'] = shopping_df['Purchase Address'].apply(lambda x: f\"{get_city(x)} ({get_state(x)})\")\n"
     ]
    },
    {
     "data": {
      "text/plain": [
       "0               Portland (ME)\n",
       "1          San Francisco (CA)\n",
       "2          New York City (NY)\n",
       "3                Atlanta (GA)\n",
       "4                Seattle (WA)\n",
       "                 ...         \n",
       "372985       Los Angeles (CA)\n",
       "372986            Austin (TX)\n",
       "372987            Boston (MA)\n",
       "372988            Boston (MA)\n",
       "372989            Boston (MA)\n",
       "Name: City, Length: 371900, dtype: object"
      ]
     },
     "execution_count": 19,
     "metadata": {},
     "output_type": "execute_result"
    }
   ],
   "source": [
    "# Added the state abbreviation, because two cities in different states may have the same name\n",
    "\n",
    "shopping_df['City'] = shopping_df['Purchase Address'].apply(lambda x: f\"{get_city(x)} ({get_state(x)})\")\n",
    "shopping_df['City']"
   ]
  },
  {
   "cell_type": "markdown",
   "metadata": {},
   "source": [
    "### Analysis\n",
    "\n",
    "#### 1.Add a Sales column that contains the total cost of an order.\n",
    "#### 2.Find the month which has the highest sales and print the sales along with the name of the month."
   ]
  },
  {
   "cell_type": "code",
   "execution_count": 20,
   "metadata": {
    "scrolled": true
   },
   "outputs": [
    {
     "data": {
      "text/html": [
       "<div>\n",
       "<style scoped>\n",
       "    .dataframe tbody tr th:only-of-type {\n",
       "        vertical-align: middle;\n",
       "    }\n",
       "\n",
       "    .dataframe tbody tr th {\n",
       "        vertical-align: top;\n",
       "    }\n",
       "\n",
       "    .dataframe thead th {\n",
       "        text-align: right;\n",
       "    }\n",
       "</style>\n",
       "<table border=\"1\" class=\"dataframe\">\n",
       "  <thead>\n",
       "    <tr style=\"text-align: right;\">\n",
       "      <th></th>\n",
       "      <th>Order ID</th>\n",
       "      <th>Quantity Ordered</th>\n",
       "      <th>Price Each</th>\n",
       "      <th>Hour</th>\n",
       "      <th>Minute</th>\n",
       "      <th>Month</th>\n",
       "      <th>Sales</th>\n",
       "    </tr>\n",
       "    <tr>\n",
       "      <th>City</th>\n",
       "      <th></th>\n",
       "      <th></th>\n",
       "      <th></th>\n",
       "      <th></th>\n",
       "      <th></th>\n",
       "      <th></th>\n",
       "      <th></th>\n",
       "    </tr>\n",
       "  </thead>\n",
       "  <tbody>\n",
       "    <tr>\n",
       "      <th>Atlanta (GA)</th>\n",
       "      <td>6.847677e+09</td>\n",
       "      <td>33204.0</td>\n",
       "      <td>5.559816e+06</td>\n",
       "      <td>428528</td>\n",
       "      <td>885864</td>\n",
       "      <td>209588</td>\n",
       "      <td>5.590997e+06</td>\n",
       "    </tr>\n",
       "    <tr>\n",
       "      <th>Austin (TX)</th>\n",
       "      <td>4.561964e+09</td>\n",
       "      <td>22306.0</td>\n",
       "      <td>3.619747e+06</td>\n",
       "      <td>283892</td>\n",
       "      <td>578120</td>\n",
       "      <td>139658</td>\n",
       "      <td>3.639164e+06</td>\n",
       "    </tr>\n",
       "    <tr>\n",
       "      <th>Boston (MA)</th>\n",
       "      <td>9.196531e+09</td>\n",
       "      <td>45056.0</td>\n",
       "      <td>7.274820e+06</td>\n",
       "      <td>576450</td>\n",
       "      <td>1180884</td>\n",
       "      <td>282224</td>\n",
       "      <td>7.323284e+06</td>\n",
       "    </tr>\n",
       "    <tr>\n",
       "      <th>Dallas (TX)</th>\n",
       "      <td>6.831287e+09</td>\n",
       "      <td>33460.0</td>\n",
       "      <td>5.505256e+06</td>\n",
       "      <td>428780</td>\n",
       "      <td>870310</td>\n",
       "      <td>209240</td>\n",
       "      <td>5.535951e+06</td>\n",
       "    </tr>\n",
       "    <tr>\n",
       "      <th>Los Angeles (CA)</th>\n",
       "      <td>1.362217e+10</td>\n",
       "      <td>66578.0</td>\n",
       "      <td>1.084287e+07</td>\n",
       "      <td>854888</td>\n",
       "      <td>1733276</td>\n",
       "      <td>416650</td>\n",
       "      <td>1.090514e+07</td>\n",
       "    </tr>\n",
       "    <tr>\n",
       "      <th>New York City (NY)</th>\n",
       "      <td>1.147267e+10</td>\n",
       "      <td>55864.0</td>\n",
       "      <td>9.270742e+06</td>\n",
       "      <td>715392</td>\n",
       "      <td>1467196</td>\n",
       "      <td>351482</td>\n",
       "      <td>9.328635e+06</td>\n",
       "    </tr>\n",
       "    <tr>\n",
       "      <th>Portland (ME)</th>\n",
       "      <td>1.126533e+09</td>\n",
       "      <td>5500.0</td>\n",
       "      <td>8.943785e+05</td>\n",
       "      <td>70422</td>\n",
       "      <td>145712</td>\n",
       "      <td>34288</td>\n",
       "      <td>8.995165e+05</td>\n",
       "    </tr>\n",
       "    <tr>\n",
       "      <th>Portland (OR)</th>\n",
       "      <td>4.611189e+09</td>\n",
       "      <td>22606.0</td>\n",
       "      <td>3.721116e+06</td>\n",
       "      <td>288842</td>\n",
       "      <td>591066</td>\n",
       "      <td>141242</td>\n",
       "      <td>3.741465e+06</td>\n",
       "    </tr>\n",
       "    <tr>\n",
       "      <th>San Francisco (CA)</th>\n",
       "      <td>2.060889e+10</td>\n",
       "      <td>100478.0</td>\n",
       "      <td>1.642292e+07</td>\n",
       "      <td>1286530</td>\n",
       "      <td>2638954</td>\n",
       "      <td>631040</td>\n",
       "      <td>1.652441e+07</td>\n",
       "    </tr>\n",
       "    <tr>\n",
       "      <th>Seattle (WA)</th>\n",
       "      <td>6.813388e+09</td>\n",
       "      <td>33106.0</td>\n",
       "      <td>5.466592e+06</td>\n",
       "      <td>426584</td>\n",
       "      <td>872736</td>\n",
       "      <td>209882</td>\n",
       "      <td>5.495511e+06</td>\n",
       "    </tr>\n",
       "  </tbody>\n",
       "</table>\n",
       "</div>"
      ],
      "text/plain": [
       "                         Order ID  Quantity Ordered    Price Each     Hour  \\\n",
       "City                                                                         \n",
       " Atlanta (GA)        6.847677e+09           33204.0  5.559816e+06   428528   \n",
       " Austin (TX)         4.561964e+09           22306.0  3.619747e+06   283892   \n",
       " Boston (MA)         9.196531e+09           45056.0  7.274820e+06   576450   \n",
       " Dallas (TX)         6.831287e+09           33460.0  5.505256e+06   428780   \n",
       " Los Angeles (CA)    1.362217e+10           66578.0  1.084287e+07   854888   \n",
       " New York City (NY)  1.147267e+10           55864.0  9.270742e+06   715392   \n",
       " Portland (ME)       1.126533e+09            5500.0  8.943785e+05    70422   \n",
       " Portland (OR)       4.611189e+09           22606.0  3.721116e+06   288842   \n",
       " San Francisco (CA)  2.060889e+10          100478.0  1.642292e+07  1286530   \n",
       " Seattle (WA)        6.813388e+09           33106.0  5.466592e+06   426584   \n",
       "\n",
       "                      Minute   Month         Sales  \n",
       "City                                                \n",
       " Atlanta (GA)         885864  209588  5.590997e+06  \n",
       " Austin (TX)          578120  139658  3.639164e+06  \n",
       " Boston (MA)         1180884  282224  7.323284e+06  \n",
       " Dallas (TX)          870310  209240  5.535951e+06  \n",
       " Los Angeles (CA)    1733276  416650  1.090514e+07  \n",
       " New York City (NY)  1467196  351482  9.328635e+06  \n",
       " Portland (ME)        145712   34288  8.995165e+05  \n",
       " Portland (OR)        591066  141242  3.741465e+06  \n",
       " San Francisco (CA)  2638954  631040  1.652441e+07  \n",
       " Seattle (WA)         872736  209882  5.495511e+06  "
      ]
     },
     "execution_count": 20,
     "metadata": {},
     "output_type": "execute_result"
    }
   ],
   "source": [
    "# 1.Add a Sales column that contains the total cost of an order.\n",
    "\n",
    "results = shopping_df.groupby('City').sum()\n",
    "results"
   ]
  },
  {
   "cell_type": "code",
   "execution_count": 21,
   "metadata": {},
   "outputs": [
    {
     "data": {
      "text/plain": [
       "' San Francisco (CA)'"
      ]
     },
     "execution_count": 21,
     "metadata": {},
     "output_type": "execute_result"
    }
   ],
   "source": [
    "# 2.Find the month which has the highest sales and print the sales along with the name of the month.\n",
    "\n",
    "results['Sales'].idxmax()"
   ]
  },
  {
   "cell_type": "markdown",
   "metadata": {},
   "source": [
    "### Plotting"
   ]
  },
  {
   "cell_type": "code",
   "execution_count": 22,
   "metadata": {},
   "outputs": [],
   "source": [
    "import matplotlib.pyplot as plt\n",
    "\n",
    "cities = results.index.values\n",
    "\n",
    " "
   ]
  },
  {
   "cell_type": "code",
   "execution_count": 23,
   "metadata": {},
   "outputs": [
    {
     "data": {
      "image/png": "[encoded data removed]",
      "text/plain": [
       "<Figure size 432x288 with 1 Axes>"
      ]
     },
     "metadata": {
      "needs_background": "light"
     },
     "output_type": "display_data"
    }
   ],
   "source": [
    "plt.bar(cities, results['Sales'])\n",
    "plt.xticks(cities, rotation = 'vertical')\n",
    "plt.xlabel('City name')\n",
    "plt.ylabel('Sales in USD ($)')\n",
    "plt.show()"
   ]
  },
  {
   "cell_type": "markdown",
   "metadata": {},
   "source": [
    "### Question 3:\n",
    "What is the best time to display advertisements to maximize the likelihood of customers' buying products?"
   ]
  },
  {
   "cell_type": "markdown",
   "metadata": {},
   "source": [
    "### Analysis\n",
    " "
   ]
  },
  {
   "cell_type": "code",
   "execution_count": 24,
   "metadata": {},
   "outputs": [
    {
     "name": "stdout",
     "output_type": "stream",
     "text": [
      "results1 19\n",
      "Hour\n",
      "0      7820\n",
      "1      4700\n",
      "2      2486\n",
      "3      1662\n",
      "4      1708\n",
      "5      2642\n",
      "6      4964\n",
      "7      8022\n",
      "8     12512\n",
      "9     17496\n",
      "10    21888\n",
      "11    24822\n",
      "12    25174\n",
      "13    24258\n",
      "14    21968\n",
      "15    20350\n",
      "16    20768\n",
      "17    21798\n",
      "18    24560\n",
      "19    25810\n",
      "20    24456\n",
      "21    21842\n",
      "22    17644\n",
      "23    12550\n",
      "Name: Order ID, dtype: int64 /n\n"
     ]
    }
   ],
   "source": [
    "# Find the total number of orders made each hour.\n",
    "# Find the hour with the highest number of orders\n",
    "\n",
    "results1 = shopping_df.groupby(['Hour']).count()['Order ID']\n",
    "\n",
    "print(\"results1\" ,results1.idxmax())\n",
    "print(results1,(\"/n\"))"
   ]
  },
  {
   "cell_type": "markdown",
   "metadata": {},
   "source": [
    "### Plotting"
   ]
  },
  {
   "cell_type": "code",
   "execution_count": 25,
   "metadata": {},
   "outputs": [
    {
     "data": {
      "image/png": "[encoded data removed]",
      "text/plain": [
       "<Figure size 432x288 with 1 Axes>"
      ]
     },
     "metadata": {
      "needs_background": "light"
     },
     "output_type": "display_data"
    }
   ],
   "source": [
    "hours = results1.index.values\n",
    "plt.plot(hours, results1)\n",
    "plt.bar(hours, results1)\n",
    "plt.xticks(hours)\n",
    "plt.xlabel('Hour')\n",
    "plt.ylabel(\"No of Oreders\")\n",
    "plt.grid()\n",
    "plt.show()"
   ]
  },
  {
   "cell_type": "markdown",
   "metadata": {},
   "source": [
    "### Question 4:\n",
    "What products are most often sold together?"
   ]
  },
  {
   "cell_type": "markdown",
   "metadata": {},
   "source": [
    "### Analysis-1\n",
    "\n",
    "Find the set of products(Grouped orders) ordered together."
   ]
  },
  {
   "cell_type": "code",
   "execution_count": 26,
   "metadata": {},
   "outputs": [
    {
     "data": {
      "text/html": [
       "<div>\n",
       "<style scoped>\n",
       "    .dataframe tbody tr th:only-of-type {\n",
       "        vertical-align: middle;\n",
       "    }\n",
       "\n",
       "    .dataframe tbody tr th {\n",
       "        vertical-align: top;\n",
       "    }\n",
       "\n",
       "    .dataframe thead th {\n",
       "        text-align: right;\n",
       "    }\n",
       "</style>\n",
       "<table border=\"1\" class=\"dataframe\">\n",
       "  <thead>\n",
       "    <tr style=\"text-align: right;\">\n",
       "      <th></th>\n",
       "      <th>Order ID</th>\n",
       "      <th>Product</th>\n",
       "      <th>Quantity Ordered</th>\n",
       "      <th>Price Each</th>\n",
       "      <th>Order Date</th>\n",
       "      <th>Purchase Address</th>\n",
       "      <th>Hour</th>\n",
       "      <th>Minute</th>\n",
       "      <th>Month</th>\n",
       "      <th>Sales</th>\n",
       "      <th>City</th>\n",
       "    </tr>\n",
       "  </thead>\n",
       "  <tbody>\n",
       "    <tr>\n",
       "      <th>0</th>\n",
       "      <td>150502</td>\n",
       "      <td>iPhone</td>\n",
       "      <td>1</td>\n",
       "      <td>700.00</td>\n",
       "      <td>2019-02-18 01:35:00</td>\n",
       "      <td>866 Spruce St, Portland, ME 04101</td>\n",
       "      <td>1</td>\n",
       "      <td>35</td>\n",
       "      <td>2</td>\n",
       "      <td>700.00</td>\n",
       "      <td>Portland (ME)</td>\n",
       "    </tr>\n",
       "    <tr>\n",
       "      <th>1</th>\n",
       "      <td>150503</td>\n",
       "      <td>AA Batteries (4-pack)</td>\n",
       "      <td>1</td>\n",
       "      <td>3.84</td>\n",
       "      <td>2019-02-13 07:24:00</td>\n",
       "      <td>18 13th St, San Francisco, CA 94016</td>\n",
       "      <td>7</td>\n",
       "      <td>24</td>\n",
       "      <td>2</td>\n",
       "      <td>3.84</td>\n",
       "      <td>San Francisco (CA)</td>\n",
       "    </tr>\n",
       "    <tr>\n",
       "      <th>2</th>\n",
       "      <td>150504</td>\n",
       "      <td>27in 4K Gaming Monitor</td>\n",
       "      <td>1</td>\n",
       "      <td>389.99</td>\n",
       "      <td>2019-02-18 09:46:00</td>\n",
       "      <td>52 6th St, New York City, NY 10001</td>\n",
       "      <td>9</td>\n",
       "      <td>46</td>\n",
       "      <td>2</td>\n",
       "      <td>389.99</td>\n",
       "      <td>New York City (NY)</td>\n",
       "    </tr>\n",
       "    <tr>\n",
       "      <th>3</th>\n",
       "      <td>150505</td>\n",
       "      <td>Lightning Charging Cable</td>\n",
       "      <td>1</td>\n",
       "      <td>14.95</td>\n",
       "      <td>2019-02-02 16:47:00</td>\n",
       "      <td>129 Cherry St, Atlanta, GA 30301</td>\n",
       "      <td>16</td>\n",
       "      <td>47</td>\n",
       "      <td>2</td>\n",
       "      <td>14.95</td>\n",
       "      <td>Atlanta (GA)</td>\n",
       "    </tr>\n",
       "    <tr>\n",
       "      <th>4</th>\n",
       "      <td>150506</td>\n",
       "      <td>AA Batteries (4-pack)</td>\n",
       "      <td>2</td>\n",
       "      <td>3.84</td>\n",
       "      <td>2019-02-28 20:32:00</td>\n",
       "      <td>548 Lincoln St, Seattle, WA 98101</td>\n",
       "      <td>20</td>\n",
       "      <td>32</td>\n",
       "      <td>2</td>\n",
       "      <td>7.68</td>\n",
       "      <td>Seattle (WA)</td>\n",
       "    </tr>\n",
       "  </tbody>\n",
       "</table>\n",
       "</div>"
      ],
      "text/plain": [
       "   Order ID                   Product  Quantity Ordered  Price Each  \\\n",
       "0    150502                    iPhone                 1      700.00   \n",
       "1    150503     AA Batteries (4-pack)                 1        3.84   \n",
       "2    150504    27in 4K Gaming Monitor                 1      389.99   \n",
       "3    150505  Lightning Charging Cable                 1       14.95   \n",
       "4    150506     AA Batteries (4-pack)                 2        3.84   \n",
       "\n",
       "           Order Date                     Purchase Address  Hour  Minute  \\\n",
       "0 2019-02-18 01:35:00    866 Spruce St, Portland, ME 04101     1      35   \n",
       "1 2019-02-13 07:24:00  18 13th St, San Francisco, CA 94016     7      24   \n",
       "2 2019-02-18 09:46:00   52 6th St, New York City, NY 10001     9      46   \n",
       "3 2019-02-02 16:47:00     129 Cherry St, Atlanta, GA 30301    16      47   \n",
       "4 2019-02-28 20:32:00    548 Lincoln St, Seattle, WA 98101    20      32   \n",
       "\n",
       "   Month   Sales                 City  \n",
       "0      2  700.00        Portland (ME)  \n",
       "1      2    3.84   San Francisco (CA)  \n",
       "2      2  389.99   New York City (NY)  \n",
       "3      2   14.95         Atlanta (GA)  \n",
       "4      2    7.68         Seattle (WA)  "
      ]
     },
     "execution_count": 26,
     "metadata": {},
     "output_type": "execute_result"
    }
   ],
   "source": [
    "shopping_df.head()"
   ]
  },
  {
   "cell_type": "markdown",
   "metadata": {},
   "source": [
    "### Cleaning data"
   ]
  },
  {
   "cell_type": "code",
   "execution_count": 27,
   "metadata": {},
   "outputs": [
    {
     "name": "stderr",
     "output_type": "stream",
     "text": [
      "<ipython-input-27-a6572564116e>:1: SettingWithCopyWarning: \n",
      "A value is trying to be set on a copy of a slice from a DataFrame.\n",
      "Try using .loc[row_indexer,col_indexer] = value instead\n",
      "\n",
      "See the caveats in the documentation: https://pandas.pydata.org/pandas-docs/stable/user_guide/indexing.html#returning-a-view-versus-a-copy\n",
      "  shopping_df['Grouped Orders'] = shopping_df.groupby('Order ID')['Product'].transform(lambda x: ','.join(x))\n"
     ]
    },
    {
     "data": {
      "text/plain": [
       "0                                             iPhone,iPhone\n",
       "1               AA Batteries (4-pack),AA Batteries (4-pack)\n",
       "2             27in 4K Gaming Monitor,27in 4K Gaming Monitor\n",
       "3         Lightning Charging Cable,Lightning Charging Cable\n",
       "4               AA Batteries (4-pack),AA Batteries (4-pack)\n",
       "                                ...                        \n",
       "372985        AAA Batteries (4-pack),AAA Batteries (4-pack)\n",
       "372986            USB-C Charging Cable,USB-C Charging Cable\n",
       "372987    Lightning Charging Cable,Lightning Charging Cable\n",
       "372988        AAA Batteries (4-pack),AAA Batteries (4-pack)\n",
       "372989                            Google Phone,Google Phone\n",
       "Name: Grouped Orders, Length: 371900, dtype: object"
      ]
     },
     "execution_count": 27,
     "metadata": {},
     "output_type": "execute_result"
    }
   ],
   "source": [
    "shopping_df['Grouped Orders'] = shopping_df.groupby('Order ID')['Product'].transform(lambda x: ','.join(x))\n",
    "shopping_df['Grouped Orders']"
   ]
  },
  {
   "cell_type": "code",
   "execution_count": 28,
   "metadata": {},
   "outputs": [
    {
     "name": "stderr",
     "output_type": "stream",
     "text": [
      "<ipython-input-28-d64fab186c67>:3: SettingWithCopyWarning: \n",
      "A value is trying to be set on a copy of a slice from a DataFrame\n",
      "\n",
      "See the caveats in the documentation: https://pandas.pydata.org/pandas-docs/stable/user_guide/indexing.html#returning-a-view-versus-a-copy\n",
      "  shopping_df[['Order ID', 'Grouped Orders']].drop_duplicates(inplace = True)\n"
     ]
    },
    {
     "data": {
      "text/html": [
       "<div>\n",
       "<style scoped>\n",
       "    .dataframe tbody tr th:only-of-type {\n",
       "        vertical-align: middle;\n",
       "    }\n",
       "\n",
       "    .dataframe tbody tr th {\n",
       "        vertical-align: top;\n",
       "    }\n",
       "\n",
       "    .dataframe thead th {\n",
       "        text-align: right;\n",
       "    }\n",
       "</style>\n",
       "<table border=\"1\" class=\"dataframe\">\n",
       "  <thead>\n",
       "    <tr style=\"text-align: right;\">\n",
       "      <th></th>\n",
       "      <th>Order ID</th>\n",
       "      <th>Product</th>\n",
       "      <th>Quantity Ordered</th>\n",
       "      <th>Price Each</th>\n",
       "      <th>Order Date</th>\n",
       "      <th>Purchase Address</th>\n",
       "      <th>Hour</th>\n",
       "      <th>Minute</th>\n",
       "      <th>Month</th>\n",
       "      <th>Sales</th>\n",
       "      <th>City</th>\n",
       "      <th>Grouped Orders</th>\n",
       "    </tr>\n",
       "  </thead>\n",
       "  <tbody>\n",
       "    <tr>\n",
       "      <th>0</th>\n",
       "      <td>150502</td>\n",
       "      <td>iPhone</td>\n",
       "      <td>1</td>\n",
       "      <td>700.00</td>\n",
       "      <td>2019-02-18 01:35:00</td>\n",
       "      <td>866 Spruce St, Portland, ME 04101</td>\n",
       "      <td>1</td>\n",
       "      <td>35</td>\n",
       "      <td>2</td>\n",
       "      <td>700.00</td>\n",
       "      <td>Portland (ME)</td>\n",
       "      <td>iPhone,iPhone</td>\n",
       "    </tr>\n",
       "    <tr>\n",
       "      <th>1</th>\n",
       "      <td>150503</td>\n",
       "      <td>AA Batteries (4-pack)</td>\n",
       "      <td>1</td>\n",
       "      <td>3.84</td>\n",
       "      <td>2019-02-13 07:24:00</td>\n",
       "      <td>18 13th St, San Francisco, CA 94016</td>\n",
       "      <td>7</td>\n",
       "      <td>24</td>\n",
       "      <td>2</td>\n",
       "      <td>3.84</td>\n",
       "      <td>San Francisco (CA)</td>\n",
       "      <td>AA Batteries (4-pack),AA Batteries (4-pack)</td>\n",
       "    </tr>\n",
       "    <tr>\n",
       "      <th>2</th>\n",
       "      <td>150504</td>\n",
       "      <td>27in 4K Gaming Monitor</td>\n",
       "      <td>1</td>\n",
       "      <td>389.99</td>\n",
       "      <td>2019-02-18 09:46:00</td>\n",
       "      <td>52 6th St, New York City, NY 10001</td>\n",
       "      <td>9</td>\n",
       "      <td>46</td>\n",
       "      <td>2</td>\n",
       "      <td>389.99</td>\n",
       "      <td>New York City (NY)</td>\n",
       "      <td>27in 4K Gaming Monitor,27in 4K Gaming Monitor</td>\n",
       "    </tr>\n",
       "    <tr>\n",
       "      <th>3</th>\n",
       "      <td>150505</td>\n",
       "      <td>Lightning Charging Cable</td>\n",
       "      <td>1</td>\n",
       "      <td>14.95</td>\n",
       "      <td>2019-02-02 16:47:00</td>\n",
       "      <td>129 Cherry St, Atlanta, GA 30301</td>\n",
       "      <td>16</td>\n",
       "      <td>47</td>\n",
       "      <td>2</td>\n",
       "      <td>14.95</td>\n",
       "      <td>Atlanta (GA)</td>\n",
       "      <td>Lightning Charging Cable,Lightning Charging Cable</td>\n",
       "    </tr>\n",
       "    <tr>\n",
       "      <th>4</th>\n",
       "      <td>150506</td>\n",
       "      <td>AA Batteries (4-pack)</td>\n",
       "      <td>2</td>\n",
       "      <td>3.84</td>\n",
       "      <td>2019-02-28 20:32:00</td>\n",
       "      <td>548 Lincoln St, Seattle, WA 98101</td>\n",
       "      <td>20</td>\n",
       "      <td>32</td>\n",
       "      <td>2</td>\n",
       "      <td>7.68</td>\n",
       "      <td>Seattle (WA)</td>\n",
       "      <td>AA Batteries (4-pack),AA Batteries (4-pack)</td>\n",
       "    </tr>\n",
       "    <tr>\n",
       "      <th>...</th>\n",
       "      <td>...</td>\n",
       "      <td>...</td>\n",
       "      <td>...</td>\n",
       "      <td>...</td>\n",
       "      <td>...</td>\n",
       "      <td>...</td>\n",
       "      <td>...</td>\n",
       "      <td>...</td>\n",
       "      <td>...</td>\n",
       "      <td>...</td>\n",
       "      <td>...</td>\n",
       "      <td>...</td>\n",
       "    </tr>\n",
       "    <tr>\n",
       "      <th>372985</th>\n",
       "      <td>295660</td>\n",
       "      <td>AAA Batteries (4-pack)</td>\n",
       "      <td>2</td>\n",
       "      <td>2.99</td>\n",
       "      <td>2019-11-04 14:17:00</td>\n",
       "      <td>574 4th St, Los Angeles, CA 90001</td>\n",
       "      <td>14</td>\n",
       "      <td>17</td>\n",
       "      <td>11</td>\n",
       "      <td>5.98</td>\n",
       "      <td>Los Angeles (CA)</td>\n",
       "      <td>AAA Batteries (4-pack),AAA Batteries (4-pack)</td>\n",
       "    </tr>\n",
       "    <tr>\n",
       "      <th>372986</th>\n",
       "      <td>295661</td>\n",
       "      <td>USB-C Charging Cable</td>\n",
       "      <td>1</td>\n",
       "      <td>11.95</td>\n",
       "      <td>2019-11-23 07:22:00</td>\n",
       "      <td>359 1st St, Austin, TX 73301</td>\n",
       "      <td>7</td>\n",
       "      <td>22</td>\n",
       "      <td>11</td>\n",
       "      <td>11.95</td>\n",
       "      <td>Austin (TX)</td>\n",
       "      <td>USB-C Charging Cable,USB-C Charging Cable</td>\n",
       "    </tr>\n",
       "    <tr>\n",
       "      <th>372987</th>\n",
       "      <td>295662</td>\n",
       "      <td>Lightning Charging Cable</td>\n",
       "      <td>1</td>\n",
       "      <td>14.95</td>\n",
       "      <td>2019-11-13 16:12:00</td>\n",
       "      <td>900 10th St, Boston, MA 02215</td>\n",
       "      <td>16</td>\n",
       "      <td>12</td>\n",
       "      <td>11</td>\n",
       "      <td>14.95</td>\n",
       "      <td>Boston (MA)</td>\n",
       "      <td>Lightning Charging Cable,Lightning Charging Cable</td>\n",
       "    </tr>\n",
       "    <tr>\n",
       "      <th>372988</th>\n",
       "      <td>295663</td>\n",
       "      <td>AAA Batteries (4-pack)</td>\n",
       "      <td>1</td>\n",
       "      <td>2.99</td>\n",
       "      <td>2019-11-17 17:08:00</td>\n",
       "      <td>592 Sunset St, Boston, MA 02215</td>\n",
       "      <td>17</td>\n",
       "      <td>8</td>\n",
       "      <td>11</td>\n",
       "      <td>2.99</td>\n",
       "      <td>Boston (MA)</td>\n",
       "      <td>AAA Batteries (4-pack),AAA Batteries (4-pack)</td>\n",
       "    </tr>\n",
       "    <tr>\n",
       "      <th>372989</th>\n",
       "      <td>295664</td>\n",
       "      <td>Google Phone</td>\n",
       "      <td>1</td>\n",
       "      <td>600.00</td>\n",
       "      <td>2019-11-17 16:13:00</td>\n",
       "      <td>428 Jackson St, Boston, MA 02215</td>\n",
       "      <td>16</td>\n",
       "      <td>13</td>\n",
       "      <td>11</td>\n",
       "      <td>600.00</td>\n",
       "      <td>Boston (MA)</td>\n",
       "      <td>Google Phone,Google Phone</td>\n",
       "    </tr>\n",
       "  </tbody>\n",
       "</table>\n",
       "<p>371900 rows × 12 columns</p>\n",
       "</div>"
      ],
      "text/plain": [
       "        Order ID                   Product  Quantity Ordered  Price Each  \\\n",
       "0         150502                    iPhone                 1      700.00   \n",
       "1         150503     AA Batteries (4-pack)                 1        3.84   \n",
       "2         150504    27in 4K Gaming Monitor                 1      389.99   \n",
       "3         150505  Lightning Charging Cable                 1       14.95   \n",
       "4         150506     AA Batteries (4-pack)                 2        3.84   \n",
       "...          ...                       ...               ...         ...   \n",
       "372985    295660    AAA Batteries (4-pack)                 2        2.99   \n",
       "372986    295661      USB-C Charging Cable                 1       11.95   \n",
       "372987    295662  Lightning Charging Cable                 1       14.95   \n",
       "372988    295663    AAA Batteries (4-pack)                 1        2.99   \n",
       "372989    295664              Google Phone                 1      600.00   \n",
       "\n",
       "                Order Date                     Purchase Address  Hour  Minute  \\\n",
       "0      2019-02-18 01:35:00    866 Spruce St, Portland, ME 04101     1      35   \n",
       "1      2019-02-13 07:24:00  18 13th St, San Francisco, CA 94016     7      24   \n",
       "2      2019-02-18 09:46:00   52 6th St, New York City, NY 10001     9      46   \n",
       "3      2019-02-02 16:47:00     129 Cherry St, Atlanta, GA 30301    16      47   \n",
       "4      2019-02-28 20:32:00    548 Lincoln St, Seattle, WA 98101    20      32   \n",
       "...                    ...                                  ...   ...     ...   \n",
       "372985 2019-11-04 14:17:00    574 4th St, Los Angeles, CA 90001    14      17   \n",
       "372986 2019-11-23 07:22:00         359 1st St, Austin, TX 73301     7      22   \n",
       "372987 2019-11-13 16:12:00        900 10th St, Boston, MA 02215    16      12   \n",
       "372988 2019-11-17 17:08:00      592 Sunset St, Boston, MA 02215    17       8   \n",
       "372989 2019-11-17 16:13:00     428 Jackson St, Boston, MA 02215    16      13   \n",
       "\n",
       "        Month   Sales                 City  \\\n",
       "0           2  700.00        Portland (ME)   \n",
       "1           2    3.84   San Francisco (CA)   \n",
       "2           2  389.99   New York City (NY)   \n",
       "3           2   14.95         Atlanta (GA)   \n",
       "4           2    7.68         Seattle (WA)   \n",
       "...       ...     ...                  ...   \n",
       "372985     11    5.98     Los Angeles (CA)   \n",
       "372986     11   11.95          Austin (TX)   \n",
       "372987     11   14.95          Boston (MA)   \n",
       "372988     11    2.99          Boston (MA)   \n",
       "372989     11  600.00          Boston (MA)   \n",
       "\n",
       "                                           Grouped Orders  \n",
       "0                                           iPhone,iPhone  \n",
       "1             AA Batteries (4-pack),AA Batteries (4-pack)  \n",
       "2           27in 4K Gaming Monitor,27in 4K Gaming Monitor  \n",
       "3       Lightning Charging Cable,Lightning Charging Cable  \n",
       "4             AA Batteries (4-pack),AA Batteries (4-pack)  \n",
       "...                                                   ...  \n",
       "372985      AAA Batteries (4-pack),AAA Batteries (4-pack)  \n",
       "372986          USB-C Charging Cable,USB-C Charging Cable  \n",
       "372987  Lightning Charging Cable,Lightning Charging Cable  \n",
       "372988      AAA Batteries (4-pack),AAA Batteries (4-pack)  \n",
       "372989                          Google Phone,Google Phone  \n",
       "\n",
       "[371900 rows x 12 columns]"
      ]
     },
     "execution_count": 28,
     "metadata": {},
     "output_type": "execute_result"
    }
   ],
   "source": [
    "# Remove any duplicate Grouped Orders that have the same Order I\n",
    "\n",
    "shopping_df[['Order ID', 'Grouped Orders']].drop_duplicates(inplace = True)\n",
    "shopping_df"
   ]
  },
  {
   "cell_type": "markdown",
   "metadata": {},
   "source": [
    "### Analysis-2\n",
    "\n",
    "Find the most common Grouped Orders"
   ]
  },
  {
   "cell_type": "code",
   "execution_count": 29,
   "metadata": {},
   "outputs": [
    {
     "data": {
      "text/plain": [
       "Lightning Charging Cable,Lightning Charging Cable        39662\n",
       "AAA Batteries (4-pack),AAA Batteries (4-pack)            39652\n",
       "AA Batteries (4-pack),AA Batteries (4-pack)              39618\n",
       "USB-C Charging Cable,USB-C Charging Cable                39584\n",
       "Wired Headphones,Wired Headphones                        34416\n",
       "Apple Airpods Headphones,Apple Airpods Headphones        29150\n",
       "Bose SoundSport Headphones,Bose SoundSport Headphones    25010\n",
       "27in FHD Monitor,27in FHD Monitor                        14426\n",
       "27in 4K Gaming Monitor,27in 4K Gaming Monitor            11958\n",
       "34in Ultrawide Monitor,34in Ultrawide Monitor            11870\n",
       "Name: Grouped Orders, dtype: int64"
      ]
     },
     "execution_count": 29,
     "metadata": {},
     "output_type": "execute_result"
    }
   ],
   "source": [
    "shopping_df['Grouped Orders'].value_counts().head(10)"
   ]
  },
  {
   "cell_type": "markdown",
   "metadata": {},
   "source": [
    "### Question 5:\n",
    "Which product has the highest sales(based on quantity)? Why do you think it has the highest sales? \n"
   ]
  },
  {
   "cell_type": "markdown",
   "metadata": {},
   "source": [
    "### Analysis\n"
   ]
  },
  {
   "cell_type": "code",
   "execution_count": 30,
   "metadata": {},
   "outputs": [
    {
     "name": "stdout",
     "output_type": "stream",
     "text": [
      "Product\n",
      "20in Monitor                   8258.0\n",
      "27in 4K Gaming Monitor        12488.0\n",
      "27in FHD Monitor              15100.0\n",
      "34in Ultrawide Monitor        12398.0\n",
      "AA Batteries (4-pack)         55270.0\n",
      "AAA Batteries (4-pack)        62034.0\n",
      "Apple Airpods Headphones      31322.0\n",
      "Bose SoundSport Headphones    26914.0\n",
      "Flatscreen TV                  9638.0\n",
      "Google Phone                  11064.0\n",
      "LG Dryer                       1292.0\n",
      "LG Washing Machine             1332.0\n",
      "Lightning Charging Cable      46434.0\n",
      "Macbook Pro Laptop             9456.0\n",
      "ThinkPad Laptop                8260.0\n",
      "USB-C Charging Cable          47950.0\n",
      "Vareebadd Phone                4136.0\n",
      "Wired Headphones              41114.0\n",
      "iPhone                        13698.0\n",
      "Name: Quantity Ordered, dtype: float64 \n",
      "\n",
      "Product Name:= AAA Batteries (4-pack)\n"
     ]
    }
   ],
   "source": [
    "# Find the total quantity ordered for each product.\n",
    "# Find the product with the highest sales.\n",
    "\n",
    "product_group = shopping_df.groupby('Product')\n",
    "quantity_ordered = product_group.sum()['Quantity Ordered']\n",
    "print(quantity_ordered, \"\\n\")\n",
    "print(\"Product Name:=\", quantity_ordered.idxmax())"
   ]
  },
  {
   "cell_type": "markdown",
   "metadata": {},
   "source": [
    "### Plotting"
   ]
  },
  {
   "cell_type": "code",
   "execution_count": 31,
   "metadata": {},
   "outputs": [
    {
     "data": {
      "image/png": "[encoded data removed]",
      "text/plain": [
       "<Figure size 432x288 with 1 Axes>"
      ]
     },
     "metadata": {
      "needs_background": "light"
     },
     "output_type": "display_data"
    }
   ],
   "source": [
    "\n",
    "products = quantity_ordered.index.values\n",
    "\n",
    "plt.bar(products, quantity_ordered)\n",
    "plt.xticks(products, rotation='vertical')\n",
    "plt.xlabel('Product')\n",
    "plt.ylabel('Quantity Ordered')\n",
    "plt.show()"
   ]
  },
  {
   "cell_type": "code",
   "execution_count": 32,
   "metadata": {},
   "outputs": [],
   "source": [
    "prices = shopping_df.groupby(\"Product\").mean()['Price Each']"
   ]
  },
  {
   "cell_type": "code",
   "execution_count": 33,
   "metadata": {},
   "outputs": [
    {
     "name": "stderr",
     "output_type": "stream",
     "text": [
      "<ipython-input-33-797c29c00ee6>:11: UserWarning: FixedFormatter should only be used together with FixedLocator\n",
      "  ax1.set_xticklabels(products, rotation='vertical')\n"
     ]
    },
    {
     "data": {
      "image/png": "[encoded data removed]",
      "text/plain": [
       "<Figure size 432x288 with 2 Axes>"
      ]
     },
     "metadata": {
      "needs_background": "light"
     },
     "output_type": "display_data"
    }
   ],
   "source": [
    "\n",
    "fig, ax1 = plt.subplots()\n",
    "ax2 = ax1.twinx()\n",
    "\n",
    "ax1.bar(products, quantity_ordered, color='g')\n",
    "ax2.plot(products, prices, 'b')\n",
    "\n",
    "ax1.set_xlabel('Product Name')\n",
    "ax1.set_ylabel('Quantity Ordered', color='g')\n",
    "ax2.set_ylabel('Price ($)', color='b')\n",
    "\n",
    "ax1.set_xticklabels(products, rotation='vertical')\n",
    "\n",
    "plt.show()"
   ]
  },
  {
   "cell_type": "markdown",
   "metadata": {},
   "source": [
    "### Question 4:\n",
    "Find the products with the highest popularity in each month of the year 2019."
   ]
  },
  {
   "cell_type": "markdown",
   "metadata": {},
   "source": [
    "### Cleaning data "
   ]
  },
  {
   "cell_type": "code",
   "execution_count": 34,
   "metadata": {},
   "outputs": [
    {
     "name": "stderr",
     "output_type": "stream",
     "text": [
      "<ipython-input-34-2851953028a5>:3: SettingWithCopyWarning: \n",
      "A value is trying to be set on a copy of a slice from a DataFrame.\n",
      "Try using .loc[row_indexer,col_indexer] = value instead\n",
      "\n",
      "See the caveats in the documentation: https://pandas.pydata.org/pandas-docs/stable/user_guide/indexing.html#returning-a-view-versus-a-copy\n",
      "  shopping_df['Year'] = shopping_df['Order Date'].dt.year\n",
      "<ipython-input-34-2851953028a5>:5: SettingWithCopyWarning: \n",
      "A value is trying to be set on a copy of a slice from a DataFrame.\n",
      "Try using .loc[row_indexer,col_indexer] = value instead\n",
      "\n",
      "See the caveats in the documentation: https://pandas.pydata.org/pandas-docs/stable/user_guide/indexing.html#returning-a-view-versus-a-copy\n",
      "  shopping_df['Month'] = shopping_df['Order Date'].dt.month\n"
     ]
    }
   ],
   "source": [
    "# Add a new column if needed\n",
    "\n",
    "shopping_df['Year'] = shopping_df['Order Date'].dt.year \n",
    "shopping_df  = shopping_df[shopping_df['Year']==2019] # Extracting 2019 Year data\n",
    "shopping_df['Month'] = shopping_df['Order Date'].dt.month"
   ]
  },
  {
   "cell_type": "markdown",
   "metadata": {},
   "source": [
    "### Analysis"
   ]
  },
  {
   "cell_type": "code",
   "execution_count": 35,
   "metadata": {},
   "outputs": [
    {
     "data": {
      "text/html": [
       "<div>\n",
       "<style scoped>\n",
       "    .dataframe tbody tr th:only-of-type {\n",
       "        vertical-align: middle;\n",
       "    }\n",
       "\n",
       "    .dataframe tbody tr th {\n",
       "        vertical-align: top;\n",
       "    }\n",
       "\n",
       "    .dataframe thead th {\n",
       "        text-align: right;\n",
       "    }\n",
       "</style>\n",
       "<table border=\"1\" class=\"dataframe\">\n",
       "  <thead>\n",
       "    <tr style=\"text-align: right;\">\n",
       "      <th></th>\n",
       "      <th>Month</th>\n",
       "      <th>Product</th>\n",
       "      <th>Quantity Ordered</th>\n",
       "    </tr>\n",
       "  </thead>\n",
       "  <tbody>\n",
       "    <tr>\n",
       "      <th>5</th>\n",
       "      <td>1</td>\n",
       "      <td>AAA Batteries (4-pack)</td>\n",
       "      <td>3190</td>\n",
       "    </tr>\n",
       "    <tr>\n",
       "      <th>24</th>\n",
       "      <td>2</td>\n",
       "      <td>AAA Batteries (4-pack)</td>\n",
       "      <td>3944</td>\n",
       "    </tr>\n",
       "    <tr>\n",
       "      <th>43</th>\n",
       "      <td>3</td>\n",
       "      <td>AAA Batteries (4-pack)</td>\n",
       "      <td>4958</td>\n",
       "    </tr>\n",
       "    <tr>\n",
       "      <th>62</th>\n",
       "      <td>4</td>\n",
       "      <td>AAA Batteries (4-pack)</td>\n",
       "      <td>5878</td>\n",
       "    </tr>\n",
       "    <tr>\n",
       "      <th>81</th>\n",
       "      <td>5</td>\n",
       "      <td>AAA Batteries (4-pack)</td>\n",
       "      <td>5854</td>\n",
       "    </tr>\n",
       "    <tr>\n",
       "      <th>100</th>\n",
       "      <td>6</td>\n",
       "      <td>AAA Batteries (4-pack)</td>\n",
       "      <td>4324</td>\n",
       "    </tr>\n",
       "    <tr>\n",
       "      <th>119</th>\n",
       "      <td>7</td>\n",
       "      <td>AAA Batteries (4-pack)</td>\n",
       "      <td>4730</td>\n",
       "    </tr>\n",
       "    <tr>\n",
       "      <th>138</th>\n",
       "      <td>8</td>\n",
       "      <td>AAA Batteries (4-pack)</td>\n",
       "      <td>4042</td>\n",
       "    </tr>\n",
       "    <tr>\n",
       "      <th>157</th>\n",
       "      <td>9</td>\n",
       "      <td>AAA Batteries (4-pack)</td>\n",
       "      <td>3846</td>\n",
       "    </tr>\n",
       "    <tr>\n",
       "      <th>176</th>\n",
       "      <td>10</td>\n",
       "      <td>AAA Batteries (4-pack)</td>\n",
       "      <td>6726</td>\n",
       "    </tr>\n",
       "    <tr>\n",
       "      <th>195</th>\n",
       "      <td>11</td>\n",
       "      <td>AAA Batteries (4-pack)</td>\n",
       "      <td>6050</td>\n",
       "    </tr>\n",
       "    <tr>\n",
       "      <th>214</th>\n",
       "      <td>12</td>\n",
       "      <td>AAA Batteries (4-pack)</td>\n",
       "      <td>8482</td>\n",
       "    </tr>\n",
       "  </tbody>\n",
       "</table>\n",
       "</div>"
      ],
      "text/plain": [
       "     Month                 Product  Quantity Ordered\n",
       "5        1  AAA Batteries (4-pack)              3190\n",
       "24       2  AAA Batteries (4-pack)              3944\n",
       "43       3  AAA Batteries (4-pack)              4958\n",
       "62       4  AAA Batteries (4-pack)              5878\n",
       "81       5  AAA Batteries (4-pack)              5854\n",
       "100      6  AAA Batteries (4-pack)              4324\n",
       "119      7  AAA Batteries (4-pack)              4730\n",
       "138      8  AAA Batteries (4-pack)              4042\n",
       "157      9  AAA Batteries (4-pack)              3846\n",
       "176     10  AAA Batteries (4-pack)              6726\n",
       "195     11  AAA Batteries (4-pack)              6050\n",
       "214     12  AAA Batteries (4-pack)              8482"
      ]
     },
     "execution_count": 35,
     "metadata": {},
     "output_type": "execute_result"
    }
   ],
   "source": [
    "# Find the total quantity ordered for each product in each month.\n",
    "# Find the product with the maximum quantity ordered for each month.\n",
    "\n",
    "product_group = shopping_df.groupby(['Month','Product'], as_index=False)['Quantity Ordered'].sum()\n",
    "product_df = pd.DataFrame(product_group)\n",
    "indexes = product_df.groupby(['Month']).idxmax()['Quantity Ordered']\n",
    "product_df.iloc[indexes]"
   ]
  },
  {
   "cell_type": "code",
   "execution_count": null,
   "metadata": {},
   "outputs": [],
   "source": []
  },
  {
   "cell_type": "code",
   "execution_count": null,
   "metadata": {},
   "outputs": [],
   "source": []
  },
  {
   "cell_type": "code",
   "execution_count": null,
   "metadata": {},
   "outputs": [],
   "source": []
  },
  {
   "cell_type": "code",
   "execution_count": null,
   "metadata": {},
   "outputs": [],
   "source": []
  },
  {
   "cell_type": "code",
   "execution_count": null,
   "metadata": {},
   "outputs": [],
   "source": []
  }
 ],
 "metadata": {
  "kernelspec": {
   "display_name": "Python 3",
   "language": "python",
   "name": "python3"
  },
  "language_info": {
   "codemirror_mode": {
    "name": "ipython",
    "version": 3
   },
   "file_extension": ".py",
   "mimetype": "text/x-python",
   "name": "python",
   "nbconvert_exporter": "python",
   "pygments_lexer": "ipython3",
   "version": "3.8.5"
  }
 },
 "nbformat": 4,
 "nbformat_minor": 2
}
